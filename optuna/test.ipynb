{
 "cells": [
  {
   "cell_type": "code",
   "execution_count": 1,
   "metadata": {},
   "outputs": [
    {
     "name": "stdout",
     "output_type": "stream",
     "text": [
      "Collecting pulp\n",
      "  Downloading PuLP-2.7.0-py3-none-any.whl (14.3 MB)\n",
      "     --------------------------------------- 14.3/14.3 MB 11.1 MB/s eta 0:00:00\n",
      "Installing collected packages: pulp\n",
      "Successfully installed pulp-2.7.0\n",
      "Note: you may need to restart the kernel to use updated packages.\n"
     ]
    },
    {
     "name": "stderr",
     "output_type": "stream",
     "text": [
      "\n",
      "[notice] A new release of pip available: 22.2.2 -> 23.0.1\n",
      "[notice] To update, run: python.exe -m pip install --upgrade pip\n"
     ]
    }
   ],
   "source": [
    "pip install pulp"
   ]
  },
  {
   "cell_type": "code",
   "execution_count": 4,
   "metadata": {},
   "outputs": [
    {
     "name": "stderr",
     "output_type": "stream",
     "text": [
      "c:\\Users\\Sofia\\AppData\\Local\\Programs\\Python\\Python39\\lib\\site-packages\\pulp\\pulp.py:1352: UserWarning: Spaces are not permitted in the name. Converted to '_'\n",
      "  warnings.warn(\"Spaces are not permitted in the name. Converted to '_'\")\n"
     ]
    },
    {
     "name": "stdout",
     "output_type": "stream",
     "text": [
      "P = 100.0\n",
      "Q = 30.0\n",
      "Objetivo = 11700000.0\n"
     ]
    }
   ],
   "source": [
    "from pulp import *\n",
    "\n",
    "prob =  LpProblem(\"Maximizar utilidades\", LpMaximize)\n",
    "\n",
    "#Variables de decisión\n",
    "P = LpVariable(\"P\", 0, 100)\n",
    "Q = LpVariable(\"Q\", 0, 50)\n",
    "\n",
    "\n",
    "#Función objetivo (Max Utilidades)\n",
    "prob += 90000*P+100000*Q - (6000000-45000*P-40000*Q)\n",
    "\n",
    "#Restricciones\n",
    "prob += 15*P + 10*Q <=2400 # proceso A\n",
    "prob += 15*P + 30*Q <=2400 # proceso B\n",
    "prob += 15*P + 5*Q <= 2400 # proceso C\n",
    "prob += 15*P + 5*Q <= 2400 # proceso D\n",
    "\n",
    "status = prob.solve()\n",
    "print(\"P =\", value(P))\n",
    "print(\"Q =\", value(Q))\n",
    "print(\"Objetivo =\", value(prob.objective))\n",
    "\n",
    "\n",
    "\n"
   ]
  },
  {
   "cell_type": "code",
   "execution_count": null,
   "metadata": {},
   "outputs": [],
   "source": []
  }
 ],
 "metadata": {
  "kernelspec": {
   "display_name": "Python 3",
   "language": "python",
   "name": "python3"
  },
  "language_info": {
   "codemirror_mode": {
    "name": "ipython",
    "version": 3
   },
   "file_extension": ".py",
   "mimetype": "text/x-python",
   "name": "python",
   "nbconvert_exporter": "python",
   "pygments_lexer": "ipython3",
   "version": "3.9.7"
  },
  "orig_nbformat": 4
 },
 "nbformat": 4,
 "nbformat_minor": 2
}
